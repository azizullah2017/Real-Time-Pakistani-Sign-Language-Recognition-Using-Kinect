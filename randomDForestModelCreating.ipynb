{
 "cells": [
  {
   "cell_type": "code",
   "execution_count": null,
   "metadata": {},
   "outputs": [
    {
     "name": "stdout",
     "output_type": "stream",
     "text": [
      "Loading Data...\n"
     ]
    }
   ],
   "source": [
    "\n",
    "# coding: utf-8\n",
    "\n",
    "# In[1]:\n",
    "\n",
    "\n",
    "import pandas\n",
    "from os import listdir\n",
    "directories = listdir('data/')\n",
    "data = []\n",
    "labels = []\n",
    "print 'Loading Data...'\n",
    "\n",
    "for direc in directories:\n",
    "    for f in listdir('data/'+direc):\n",
    "        path = 'data/'+direc+'/'+f \n",
    "        #print 'reading file... '+path\n",
    "        d = pandas.read_excel(path, header = 0)\n",
    "        data.append(d)\n",
    "        labels.append(direc)\n",
    "\n",
    "print 'data loaded.'\n",
    "\n",
    "\n",
    "# In[2]:\n",
    "\n",
    "\n",
    "max_length = 0\n",
    "new_data = []\n",
    "time = []\n",
    "max_rows = 0\n",
    "for sample in data:    \n",
    "    d = sample.iloc[:,1:]\n",
    "    d = d.fillna(0)\n",
    "    new_data.append(d.values.ravel())\n",
    "\n",
    "for sample in new_data:\n",
    "    if len(sample) > max_length:\n",
    "        max_length = len(sample)\n",
    "    \n",
    "from keras.preprocessing.sequence import pad_sequences\n",
    "data = pad_sequences(new_data, maxlen=max_length) \n",
    "\n",
    "\n",
    "# In[3]:\n",
    "\n",
    "\n",
    "import numpy\n",
    "from sklearn.preprocessing import LabelEncoder\n",
    "\n",
    "le = LabelEncoder()\n",
    "X = numpy.array(data)\n",
    "tr = le.fit_transform(labels)\n",
    "\n",
    "\n",
    "# In[14]:\n",
    "\n",
    "\n",
    "from sklearn.model_selection import train_test_split\n",
    "X_train, X_test, Y_train, Y_test = train_test_split(X, tr, random_state = 32)\n",
    "\n",
    "\n",
    "# In[15]:\n",
    "\n",
    "\n",
    "from sklearn.ensemble import RandomForestClassifier\n",
    "from sklearn.metrics import f1_score\n",
    "model = RandomForestClassifier(max_depth=50, random_state=20)\n",
    "model.fit(X_train, Y_train)\n",
    "print model.score(X_test, Y_test)\n",
    "y_pred = model.predict(X_test)\n",
    "print f1_score(Y_test, y_pred, average='weighted')\n",
    "\n",
    "\n",
    "# In[16]:\n",
    "\n",
    "\n",
    "import pickle\n",
    "filename = 'finalized_model_random_forest.sav'\n",
    "pickle.dump(model, open(filename, 'wb'))\n",
    "\n"
   ]
  },
  {
   "cell_type": "code",
   "execution_count": null,
   "metadata": {},
   "outputs": [],
   "source": []
  },
  {
   "cell_type": "code",
   "execution_count": null,
   "metadata": {},
   "outputs": [],
   "source": []
  },
  {
   "cell_type": "code",
   "execution_count": 2,
   "metadata": {},
   "outputs": [
    {
     "name": "stdout",
     "output_type": "stream",
     "text": [
      "Loading Data...\n",
      "data loaded.\n"
     ]
    },
    {
     "name": "stderr",
     "output_type": "stream",
     "text": [
      "Using Theano backend.\n"
     ]
    },
    {
     "name": "stdout",
     "output_type": "stream",
     "text": [
      "0.736842105263\n",
      "0.720942215679\n"
     ]
    }
   ],
   "source": []
  },
  {
   "cell_type": "code",
   "execution_count": null,
   "metadata": {},
   "outputs": [],
   "source": []
  },
  {
   "cell_type": "code",
   "execution_count": null,
   "metadata": {},
   "outputs": [],
   "source": []
  }
 ],
 "metadata": {
  "kernelspec": {
   "display_name": "Python 2",
   "language": "python",
   "name": "python2"
  },
  "language_info": {
   "codemirror_mode": {
    "name": "ipython",
    "version": 2
   },
   "file_extension": ".py",
   "mimetype": "text/x-python",
   "name": "python",
   "nbconvert_exporter": "python",
   "pygments_lexer": "ipython2",
   "version": "2.7.14"
  }
 },
 "nbformat": 4,
 "nbformat_minor": 2
}
